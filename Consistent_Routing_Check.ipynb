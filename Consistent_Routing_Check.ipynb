{
 "cells": [
  {
   "cell_type": "markdown",
   "metadata": {
    "application/vnd.databricks.v1+cell": {
     "cellMetadata": {},
     "inputWidgets": {},
     "nuid": "e86d5b8a-149b-44e5-9bd3-1f8668ad0dad",
     "showTitle": false,
     "tableResultSettingsMap": {},
     "title": ""
    }
   },
   "source": [
    "# Consistent routings with output to compare performance\n",
    "\n",
    "\n"
   ]
  },
  {
   "cell_type": "markdown",
   "metadata": {
    "application/vnd.databricks.v1+cell": {
     "cellMetadata": {},
     "inputWidgets": {},
     "nuid": "13dbc126-1d35-43b0-be72-fc9403982a9d",
     "showTitle": false,
     "tableResultSettingsMap": {},
     "title": ""
    }
   },
   "source": [
    "- Identical routing setups are rarely reused across multiple plants, indicating low process standardization."
   ]
  },
  {
   "cell_type": "code",
   "execution_count": 0,
   "metadata": {
    "application/vnd.databricks.v1+cell": {
     "cellMetadata": {
      "byteLimit": 2048000,
      "implicitDf": true,
      "rowLimit": 10000
     },
     "inputWidgets": {},
     "nuid": "ba87d99e-615b-47d7-8737-deaafed2d1da",
     "showTitle": false,
     "tableResultSettingsMap": {},
     "title": ""
    }
   },
   "outputs": [
    {
     "output_type": "display_data",
     "data": {
      "text/html": [
       "<style scoped>\n",
       "  .table-result-container {\n",
       "    max-height: 300px;\n",
       "    overflow: auto;\n",
       "  }\n",
       "  table, th, td {\n",
       "    border: 1px solid black;\n",
       "    border-collapse: collapse;\n",
       "  }\n",
       "  th, td {\n",
       "    padding: 5px;\n",
       "  }\n",
       "  th {\n",
       "    text-align: left;\n",
       "  }\n",
       "</style><div class='table-result-container'><table class='table-result'><thead style='background-color: white'><tr><th>material</th><th>production_order</th><th>plant</th><th>setup_time_mins</th><th>cycle_time_sec</th><th>labour_time_sec</th><th>avg_output_per_hour</th></tr></thead><tbody><tr><td>4845494</td><td>303748</td><td>2</td><td>59</td><td>12.5</td><td>12.5</td><td>3621.69</td></tr><tr><td>5788376</td><td>335502</td><td>3</td><td>46</td><td>9.863</td><td>9.863</td><td>588.99</td></tr><tr><td>6175701</td><td>303732</td><td>2</td><td>55</td><td>12.522</td><td>12.522</td><td>3834.91</td></tr><tr><td>7807075</td><td>341286</td><td>3</td><td>28</td><td>6.545</td><td>6.545</td><td>3446.92</td></tr></tbody></table></div>"
      ]
     },
     "metadata": {
      "application/vnd.databricks.v1+output": {
       "addedWidgets": {},
       "aggData": [],
       "aggError": "",
       "aggOverflow": false,
       "aggSchema": [],
       "aggSeriesLimitReached": false,
       "aggType": "",
       "arguments": {},
       "columnCustomDisplayInfos": {},
       "data": [
        [
         4845494,
         303748,
         2,
         59,
         12.5,
         12.5,
         3621.69
        ],
        [
         5788376,
         335502,
         3,
         46,
         9.863,
         9.863,
         588.99
        ],
        [
         6175701,
         303732,
         2,
         55,
         12.522,
         12.522,
         3834.91
        ],
        [
         7807075,
         341286,
         3,
         28,
         6.545,
         6.545,
         3446.92
        ]
       ],
       "datasetInfos": [
        {
         "name": "_sqldf",
         "schema": {
          "fields": [
           {
            "metadata": {},
            "name": "material",
            "nullable": true,
            "type": "long"
           },
           {
            "metadata": {},
            "name": "production_order",
            "nullable": true,
            "type": "long"
           },
           {
            "metadata": {},
            "name": "plant",
            "nullable": true,
            "type": "long"
           },
           {
            "metadata": {},
            "name": "setup_time_mins",
            "nullable": true,
            "type": "long"
           },
           {
            "metadata": {},
            "name": "cycle_time_sec",
            "nullable": true,
            "type": "double"
           },
           {
            "metadata": {},
            "name": "labour_time_sec",
            "nullable": true,
            "type": "double"
           },
           {
            "metadata": {},
            "name": "avg_output_per_hour",
            "nullable": true,
            "type": "double"
           }
          ],
          "type": "struct"
         },
         "tableIdentifier": null,
         "typeStr": "pyspark.sql.connect.dataframe.DataFrame"
        }
       ],
       "dbfsResultPath": null,
       "isJsonSchema": true,
       "metadata": {
        "createTempViewForImplicitDf": true,
        "dataframeName": "_sqldf",
        "executionCount": 3
       },
       "overflow": false,
       "plotOptions": {
        "customPlotOptions": {},
        "displayType": "table",
        "pivotAggregation": null,
        "pivotColumns": null,
        "xColumns": null,
        "yColumns": null
       },
       "removedWidgets": [],
       "schema": [
        {
         "metadata": "{}",
         "name": "material",
         "type": "\"long\""
        },
        {
         "metadata": "{}",
         "name": "production_order",
         "type": "\"long\""
        },
        {
         "metadata": "{}",
         "name": "plant",
         "type": "\"long\""
        },
        {
         "metadata": "{}",
         "name": "setup_time_mins",
         "type": "\"long\""
        },
        {
         "metadata": "{}",
         "name": "cycle_time_sec",
         "type": "\"double\""
        },
        {
         "metadata": "{}",
         "name": "labour_time_sec",
         "type": "\"double\""
        },
        {
         "metadata": "{}",
         "name": "avg_output_per_hour",
         "type": "\"double\""
        }
       ],
       "type": "table"
      }
     },
     "output_type": "display_data"
    }
   ],
   "source": [
    "%sql\n",
    "--Join consistent routings with output to compare performance\n",
    "WITH consistent_routings AS (\n",
    "    SELECT\n",
    "        material_id,\n",
    "        setup_time_mins,\n",
    "        cycle_time_sec,\n",
    "        labour_time_sec\n",
    "    FROM workspace.default.routings\n",
    "    GROUP BY material_id, setup_time_mins, cycle_time_sec, labour_time_sec\n",
    "    HAVING COUNT(DISTINCT plant_id) > 1\n",
    ")\n",
    "\n",
    "SELECT\n",
    "    o.material,\n",
    "    o.production_order,\n",
    "    o.plant,\n",
    "    r.setup_time_mins,\n",
    "    r.cycle_time_sec,\n",
    "    r.labour_time_sec,\n",
    "    ROUND(SUM(o.approved_quantity) / SUM(o.actual_net_production_time / 3600), 2) AS avg_output_per_hour\n",
    "FROM workspace.default.output AS o\n",
    "JOIN workspace.default.routings AS r\n",
    "    ON o.production_order = r.order_id\n",
    "    AND o.material = r.material_id\n",
    "    AND o.plant = r.plant_id\n",
    "    AND o.line = r.line\n",
    "JOIN consistent_routings cr\n",
    "    ON r.material_id = cr.material_id\n",
    "    AND r.setup_time_mins = cr.setup_time_mins\n",
    "    AND r.cycle_time_sec = cr.cycle_time_sec\n",
    "    AND r.labour_time_sec = cr.labour_time_sec\n",
    "GROUP BY o.material, o.production_order, o.plant, r.setup_time_mins, r.cycle_time_sec, r.labour_time_sec\n",
    "ORDER BY o.material, avg_output_per_hour DESC;\n"
   ]
  },
  {
   "cell_type": "code",
   "execution_count": 0,
   "metadata": {
    "application/vnd.databricks.v1+cell": {
     "cellMetadata": {},
     "inputWidgets": {},
     "nuid": "02693c1d-d7f0-403e-9e4e-61676f299fbc",
     "showTitle": false,
     "tableResultSettingsMap": {},
     "title": ""
    }
   },
   "outputs": [],
   "source": []
  }
 ],
 "metadata": {
  "application/vnd.databricks.v1+notebook": {
   "computePreferences": null,
   "dashboards": [],
   "environmentMetadata": {
    "base_environment": "",
    "environment_version": "3"
   },
   "inputWidgetPreferences": null,
   "language": "python",
   "notebookMetadata": {
    "mostRecentlyExecutedCommandWithImplicitDF": {
     "commandId": 7203205601784690,
     "dataframes": [
      "_sqldf"
     ]
    },
    "pythonIndentUnit": 4
   },
   "notebookName": "Consistent_Routing_Check",
   "widgets": {}
  },
  "language_info": {
   "name": "python"
  }
 },
 "nbformat": 4,
 "nbformat_minor": 0
}